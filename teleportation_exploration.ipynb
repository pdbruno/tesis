{
 "cells": [
  {
   "cell_type": "code",
   "execution_count": 1,
   "id": "f54a57bd-ff0b-48e1-bea8-cc4db874ccc0",
   "metadata": {
    "tags": []
   },
   "outputs": [],
   "source": [
    "from qiskit_aer import AerSimulator\n",
    "from channels import depolarizing_channel, amplitude_damping_channel, mirrored_amplitude_damping_channel\n",
    "from teleportation_circuit import run_simulation\n",
    "from quantum_state_tomography import get_probabilities_and_states\n",
    "import numpy as np\n"
   ]
  },
  {
   "cell_type": "code",
   "execution_count": 2,
   "id": "9fa54f7c-d3a4-41d9-903d-041445cb7818",
   "metadata": {
    "tags": []
   },
   "outputs": [],
   "source": [
    "def estado_0(qc, psi_alice):\n",
    "    pass\n",
    "\n",
    "def sin_ruido(qc, qubit):\n",
    "    pass\n",
    "\n",
    "def superposicion(qc, psi_alice):\n",
    "    qc.h(psi_alice)"
   ]
  },
  {
   "cell_type": "code",
   "execution_count": 3,
   "id": "2fdc6fb7-77c1-46f1-ab5f-d63f38e59353",
   "metadata": {
    "tags": []
   },
   "outputs": [],
   "source": [
    "shots = 20000\n",
    "simulator = AerSimulator()\n",
    "\n",
    "measurements_x, measurements_y, measurements_z = run_simulation(superposicion, sin_ruido, sin_ruido, shots, simulator)\n",
    "\n",
    "\n",
    "#plot_histogram(mediciones_base_z, title='Bell-State counts')"
   ]
  },
  {
   "cell_type": "code",
   "execution_count": 4,
   "id": "7af9c13d-6e93-457d-8afd-c1ed4a878ff3",
   "metadata": {},
   "outputs": [],
   "source": [
    "probabilities, states = get_probabilities_and_states(measurements_x, measurements_y, measurements_z, shots)"
   ]
  },
  {
   "cell_type": "code",
   "execution_count": 5,
   "id": "08d8e806-ec1e-4117-ac43-2452c13d2526",
   "metadata": {
    "tags": []
   },
   "outputs": [],
   "source": [
    "#plot_histogram(probabilidades, title='Bell-State counts')"
   ]
  },
  {
   "cell_type": "code",
   "execution_count": 6,
   "id": "d6d2c0ed-67b4-4e33-8067-c95396daee2d",
   "metadata": {
    "tags": []
   },
   "outputs": [
    {
     "data": {
      "text/plain": [
       "array([1.00000000e+00, 2.91260481e-03, 1.05465060e-04])"
      ]
     },
     "execution_count": 6,
     "metadata": {},
     "output_type": "execute_result"
    }
   ],
   "source": [
    "pis = np.fromiter(probabilities, dtype=float)\n",
    "ros = np.fromiter(states, dtype=np.dtype((float, 3)))\n",
    "np.dot(pis, ros)"
   ]
  }
 ],
 "metadata": {
  "kernelspec": {
   "display_name": "Python 3 [Default]",
   "language": "python",
   "name": "python3"
  },
  "language_info": {
   "codemirror_mode": {
    "name": "ipython",
    "version": 3
   },
   "file_extension": ".py",
   "mimetype": "text/x-python",
   "name": "python",
   "nbconvert_exporter": "python",
   "pygments_lexer": "ipython3",
   "version": "3.11.9"
  }
 },
 "nbformat": 4,
 "nbformat_minor": 5
}
