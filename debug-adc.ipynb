{
 "cells": [
  {
   "cell_type": "code",
   "execution_count": 1,
   "metadata": {},
   "outputs": [],
   "source": [
    "from qiskit import QuantumCircuit\n",
    "from qiskit.quantum_info import DensityMatrix, Operator\n",
    "import numpy as np\n",
    "from qiskit.circuit.library import UGate, ZGate, HGate, SdgGate\n",
    "from math import pi"
   ]
  },
  {
   "cell_type": "code",
   "execution_count": 2,
   "metadata": {},
   "outputs": [
    {
     "data": {
      "text/plain": [
       "(100, 2)"
      ]
     },
     "execution_count": 2,
     "metadata": {},
     "output_type": "execute_result"
    }
   ],
   "source": [
    "np.vstack(\n",
    "    [\n",
    "        np.linspace(-np.pi, np.pi, 100),\n",
    "        np.linspace(-4 * np.pi, 4 * np.pi, 100),\n",
    "    ]\n",
    ").T.shape"
   ]
  },
  {
   "cell_type": "code",
   "execution_count": 16,
   "metadata": {},
   "outputs": [
    {
     "data": {
      "text/plain": [
       "array([[0.70710678+0.j        , 0.        -0.70710678j],\n",
       "       [0.70710678+0.j        , 0.        +0.70710678j]])"
      ]
     },
     "execution_count": 16,
     "metadata": {},
     "output_type": "execute_result"
    }
   ],
   "source": [
    "HGate().to_matrix() @ SdgGate().to_matrix()"
   ]
  },
  {
   "cell_type": "code",
   "execution_count": 29,
   "metadata": {},
   "outputs": [
    {
     "data": {
      "text/plain": [
       "array([[ 0.70710678+0.00000000e+00j,  0.70710678-8.65956056e-17j],\n",
       "       [ 0.70710678+0.00000000e+00j, -0.70710678+8.65956056e-17j]])"
      ]
     },
     "execution_count": 29,
     "metadata": {},
     "output_type": "execute_result"
    }
   ],
   "source": [
    "UGate(pi/2, 0, pi).to_matrix()"
   ]
  },
  {
   "cell_type": "code",
   "execution_count": 35,
   "metadata": {},
   "outputs": [
    {
     "data": {
      "text/plain": [
       "True"
      ]
     },
     "execution_count": 35,
     "metadata": {},
     "output_type": "execute_result"
    }
   ],
   "source": [
    "np.allclose(HGate().to_matrix(), UGate(pi/2, 0, pi).to_matrix())"
   ]
  },
  {
   "cell_type": "code",
   "execution_count": 36,
   "metadata": {},
   "outputs": [
    {
     "data": {
      "text/plain": [
       "True"
      ]
     },
     "execution_count": 36,
     "metadata": {},
     "output_type": "execute_result"
    }
   ],
   "source": [
    "np.allclose(ZGate().to_matrix(), UGate(0, 0, pi).to_matrix())"
   ]
  },
  {
   "cell_type": "code",
   "execution_count": 8,
   "metadata": {},
   "outputs": [
    {
     "data": {
      "text/plain": [
       "array([[1.+0.j, 0.-0.j],\n",
       "       [0.+0.j, 1.+0.j]])"
      ]
     },
     "execution_count": 8,
     "metadata": {},
     "output_type": "execute_result"
    }
   ],
   "source": [
    "UGate(0, 0, 0).to_matrix()"
   ]
  },
  {
   "cell_type": "code",
   "execution_count": 3,
   "metadata": {},
   "outputs": [
    {
     "data": {
      "text/plain": [
       "Instruction(name='z', num_qubits=1, num_clbits=0, params=[])"
      ]
     },
     "execution_count": 3,
     "metadata": {},
     "output_type": "execute_result"
    }
   ],
   "source": [
    "ZGate()"
   ]
  },
  {
   "cell_type": "code",
   "execution_count": 4,
   "metadata": {},
   "outputs": [
    {
     "data": {
      "text/plain": [
       "array([0., 0., 1.])"
      ]
     },
     "execution_count": 4,
     "metadata": {},
     "output_type": "execute_result"
    }
   ],
   "source": [
    "to_bloch(0, 0, pi)"
   ]
  },
  {
   "cell_type": "code",
   "execution_count": 5,
   "metadata": {},
   "outputs": [
    {
     "data": {
      "text/plain": [
       "array([[ 1.+0.0000000e+00j,  0.+0.0000000e+00j],\n",
       "       [ 0.+0.0000000e+00j, -1.+1.2246468e-16j]])"
      ]
     },
     "execution_count": 5,
     "metadata": {},
     "output_type": "execute_result"
    }
   ],
   "source": [
    "u.to_matrix()"
   ]
  },
  {
   "cell_type": "code",
   "execution_count": 6,
   "metadata": {},
   "outputs": [
    {
     "data": {
      "text/plain": [
       "array([[ 1.+0.j,  0.+0.j],\n",
       "       [ 0.+0.j, -1.+0.j]])"
      ]
     },
     "execution_count": 6,
     "metadata": {},
     "output_type": "execute_result"
    }
   ],
   "source": [
    "ZGate().to_matrix()"
   ]
  },
  {
   "cell_type": "code",
   "execution_count": 9,
   "metadata": {},
   "outputs": [
    {
     "data": {
      "text/plain": [
       "array([0., 0., 1.])"
      ]
     },
     "execution_count": 9,
     "metadata": {},
     "output_type": "execute_result"
    }
   ],
   "source": [
    "to_bloch(0, 0, 0)"
   ]
  },
  {
   "cell_type": "code",
   "execution_count": 10,
   "metadata": {},
   "outputs": [],
   "source": [
    "t = [\n",
    "    (0, 0, 1.0),\n",
    "    (0, 0.1, 0.966228),\n",
    "    (0, 0.2, 0.931476),\n",
    "    (0, 0.3, 0.895553),\n",
    "    (0, 0.4, 0.858199),\n",
    "    (0, 0.5, 0.819036),\n",
    "    (0, 0.6, 0.777485),\n",
    "    (0, 0.7, 0.732574),\n",
    "    (0, 0.8, 0.682405),\n",
    "    (0, 0.9, 0.622076),\n",
    "    (0, 1, 0.5),\n",
    "    (0.1, 0, 0.966228),\n",
    "    (0.1, 0.1, 0.936667),\n",
    "    (0.1, 0.2, 0.906176),\n",
    "    (0.1, 0.3, 0.874575),\n",
    "    (0.1, 0.4, 0.841616),\n",
    "    (0.1, 0.5, 0.80694),\n",
    "    (0.1, 0.6, 0.77),\n",
    "    (0.1, 0.7, 0.729872),\n",
    "    (0.1, 0.8, 0.684755),\n",
    "    (0.1, 0.9, 0.63),\n",
    "    (0.1, 1, 0.516667),\n",
    "    (0.2, 0, 0.931476),\n",
    "    (0.2, 0.1, 0.906176),\n",
    "    (0.2, 0.2, 0.88),\n",
    "    (0.2, 0.3, 0.852777),\n",
    "    (0.2, 0.4, 0.824273),\n",
    "    (0.2, 0.5, 0.794152),\n",
    "    (0.2, 0.6, 0.761895),\n",
    "    (0.2, 0.7, 0.726633),\n",
    "    (0.2, 0.8, 0.686667),\n",
    "    (0.2, 0.9, 0.637614),\n",
    "    (0.2, 1, 0.533333),\n",
    "    (0.3, 0, 0.895553),\n",
    "    (0.3, 0.1, 0.874575),\n",
    "    (0.3, 0.2, 0.852777),\n",
    "    (0.3, 0.3, 0.83),\n",
    "    (0.3, 0.4, 0.806025),\n",
    "    (0.3, 0.5, 0.780536),\n",
    "    (0.3, 0.6, 0.75305),\n",
    "    (0.3, 0.7, 0.722753),\n",
    "    (0.3, 0.8, 0.688055),\n",
    "    (0.3, 0.9, 0.644858),\n",
    "    (0.3, 1, 0.55),\n",
    "    (0.4, 0, 0.858199),\n",
    "    (0.4, 0.1, 0.841616),\n",
    "    (0.4, 0.2, 0.824273),\n",
    "    (0.4, 0.3, 0.806025),\n",
    "    (0.4, 0.4, 0.786667),\n",
    "    (0.4, 0.5, 0.765908),\n",
    "    (0.4, 0.6, 0.743299),\n",
    "    (0.4, 0.7, 0.718088),\n",
    "    (0.4, 0.8, 0.688803),\n",
    "    (0.4, 0.9, 0.65165),\n",
    "    (0.4, 1, 0.566667),\n",
    "    (0.5, 0, 0.819036),\n",
    "    (0.5, 0.1, 0.80694),\n",
    "    (0.5, 0.2, 0.794152),\n",
    "    (0.5, 0.3, 0.780536),\n",
    "    (0.5, 0.4, 0.765908),\n",
    "    (0.5, 0.5, 0.75),\n",
    "    (0.5, 0.6, 0.732405),\n",
    "    (0.5, 0.7, 0.712433),\n",
    "    (0.5, 0.8, 0.688743),\n",
    "    (0.5, 0.9, 0.657869),\n",
    "    (0.5, 1, 0.583333),\n",
    "    (0.6, 0, 0.777485),\n",
    "    (0.6, 0.1, 0.77),\n",
    "    (0.6, 0.2, 0.761895),\n",
    "    (0.6, 0.3, 0.75305),\n",
    "    (0.6, 0.4, 0.743299),\n",
    "    (0.6, 0.5, 0.732405),\n",
    "    (0.6, 0.6, 0.72),\n",
    "    (0.6, 0.7, 0.70547),\n",
    "    (0.6, 0.8, 0.687614),\n",
    "    (0.6, 0.9, 0.663333),\n",
    "    (0.6, 1, 0.6),\n",
    "    (0.7, 0, 0.732574),\n",
    "    (0.7, 0.1, 0.729872),\n",
    "    (0.7, 0.2, 0.726633),\n",
    "    (0.7, 0.3, 0.722753),\n",
    "    (0.7, 0.4, 0.718088),\n",
    "    (0.7, 0.5, 0.712433),\n",
    "    (0.7, 0.6, 0.70547),\n",
    "    (0.7, 0.7, 0.696667),\n",
    "    (0.7, 0.8, 0.684983),\n",
    "    (0.7, 0.9, 0.667735),\n",
    "    (0.7, 1, 0.616667),\n",
    "    (0.8, 0, 0.682405),\n",
    "    (0.8, 0.1, 0.684755),\n",
    "    (0.8, 0.2, 0.686667),\n",
    "    (0.8, 0.3, 0.688055),\n",
    "    (0.8, 0.4, 0.688803),\n",
    "    (0.8, 0.5, 0.688743),\n",
    "    (0.8, 0.6, 0.687614),\n",
    "    (0.8, 0.7, 0.684983),\n",
    "    (0.8, 0.8, 0.68),\n",
    "    (0.8, 0.9, 0.670474),\n",
    "    (0.8, 1, 0.633333),\n",
    "    (0.9, 0, 0.622076),\n",
    "    (0.9, 0.1, 0.63),\n",
    "    (0.9, 0.2, 0.637614),\n",
    "    (0.9, 0.3, 0.644858),\n",
    "    (0.9, 0.4, 0.65165),\n",
    "    (0.9, 0.5, 0.657869),\n",
    "    (0.9, 0.6, 0.663333),\n",
    "    (0.9, 0.7, 0.667735),\n",
    "    (0.9, 0.8, 0.670474),\n",
    "    (0.9, 0.9, 0.67),\n",
    "    (0.9, 1, 0.65),\n",
    "    (1, 0, 0.5),\n",
    "    (1, 0.1, 0.516667),\n",
    "    (1, 0.2, 0.533333),\n",
    "    (1, 0.3, 0.55),\n",
    "    (1, 0.4, 0.566667),\n",
    "    (1, 0.5, 0.583333),\n",
    "    (1, 0.6, 0.6),\n",
    "    (1, 0.7, 0.616667),\n",
    "    (1, 0.8, 0.633333),\n",
    "    (1, 0.9, 0.65),\n",
    "    (1, 1, 0.666667),\n",
    "]"
   ]
  }
 ],
 "metadata": {
  "kernelspec": {
   "display_name": "Python 3",
   "language": "python",
   "name": "python3"
  },
  "language_info": {
   "codemirror_mode": {
    "name": "ipython",
    "version": 3
   },
   "file_extension": ".py",
   "mimetype": "text/x-python",
   "name": "python",
   "nbconvert_exporter": "python",
   "pygments_lexer": "ipython3",
   "version": "3.12.4"
  }
 },
 "nbformat": 4,
 "nbformat_minor": 2
}
