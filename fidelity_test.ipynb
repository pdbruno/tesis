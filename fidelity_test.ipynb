{
 "cells": [
  {
   "cell_type": "code",
   "execution_count": 1,
   "id": "62d6987a-7d62-457a-90b0-d3553771ed21",
   "metadata": {
    "tags": []
   },
   "outputs": [],
   "source": [
    "from qiskit_aer import AerSimulator\n",
    "from channels import depolarizing_channel, amplitude_damping_channel, mirrored_amplitude_damping_channel\n",
    "from teleportation_circuit import run_simulation\n",
    "from quantum_state_tomography import get_probabilities_and_states\n",
    "from averages import haar_measure_average, pauli_eigenvectors_average\n",
    "from distances import fidelity\n",
    "import numpy as np"
   ]
  },
  {
   "cell_type": "code",
   "execution_count": 2,
   "id": "a6d3b45c-381d-47eb-9c00-d23c3991a3a9",
   "metadata": {
    "tags": []
   },
   "outputs": [],
   "source": [
    "def sin_ruido(qc, qubit):\n",
    "    pass"
   ]
  },
  {
   "cell_type": "code",
   "execution_count": 3,
   "id": "89395c00-fdc4-4cc4-994c-7594f0028972",
   "metadata": {
    "tags": []
   },
   "outputs": [],
   "source": [
    "shots = 20000\n",
    "simulator = AerSimulator()"
   ]
  },
  {
   "cell_type": "code",
   "execution_count": 4,
   "id": "9f01a0ed-5bfc-4d20-926b-3ea80838dd04",
   "metadata": {
    "tags": []
   },
   "outputs": [],
   "source": [
    "d = np.vectorize(fidelity, signature='(3),(3)->()')"
   ]
  },
  {
   "cell_type": "code",
   "execution_count": 5,
   "id": "e9bf7788-07ac-4d67-8aad-670242def01d",
   "metadata": {
    "tags": []
   },
   "outputs": [
    {
     "name": "stdout",
     "output_type": "stream",
     "text": [
      "1.0\n"
     ]
    }
   ],
   "source": [
    "score_protocol_distance = 0\n",
    "for initializator, rho_a in pauli_eigenvectors_average():\n",
    "    measurements_x, measurements_y, measurements_z = run_simulation(initializator, sin_ruido, sin_ruido, shots, simulator)\n",
    "    p_is, rho_B_is = get_probabilities_and_states(measurements_x, measurements_y, measurements_z, shots)\n",
    "    score_protocol_distance += p_is @ d(rho_a, rho_B_is)\n",
    "    \n",
    "print(score_protocol_distance/6)"
   ]
  },
  {
   "cell_type": "code",
   "execution_count": 6,
   "id": "e31e7969-9e38-4a02-ab4e-38997864a285",
   "metadata": {
    "tags": []
   },
   "outputs": [
    {
     "name": "stdout",
     "output_type": "stream",
     "text": [
      "0.24996690348862857\n"
     ]
    }
   ],
   "source": [
    "score_protocol_distance = 0\n",
    "for initializator, rho_a in haar_measure_average(1000):\n",
    "    measurements_x, measurements_y, measurements_z = run_simulation(initializator, sin_ruido, sin_ruido, 5000, simulator)\n",
    "    p_is, rho_B_is = get_probabilities_and_states(measurements_x, measurements_y, measurements_z, shots)\n",
    "    score_protocol_distance += p_is @ d(rho_a, rho_B_is)\n",
    "    \n",
    "print(score_protocol_distance/1000)"
   ]
  },
  {
   "cell_type": "code",
   "execution_count": null,
   "id": "9f020417-82d9-49c7-8303-419286fec34c",
   "metadata": {},
   "outputs": [],
   "source": []
  }
 ],
 "metadata": {
  "kernelspec": {
   "display_name": "Python 3 [Default]",
   "language": "python",
   "name": "python3"
  },
  "language_info": {
   "codemirror_mode": {
    "name": "ipython",
    "version": 3
   },
   "file_extension": ".py",
   "mimetype": "text/x-python",
   "name": "python",
   "nbconvert_exporter": "python",
   "pygments_lexer": "ipython3",
   "version": "3.11.9"
  }
 },
 "nbformat": 4,
 "nbformat_minor": 5
}
